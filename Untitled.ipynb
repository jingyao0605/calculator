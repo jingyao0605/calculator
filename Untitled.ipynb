{
 "cells": [
  {
   "cell_type": "markdown",
   "id": "9d1c41b1",
   "metadata": {},
   "source": [
    "# Team7\n",
    "# \n",
    "# ### Members:\n",
    "#  - Jingyao Wang\n",
    "#  - Vu Quang Dan\n",
    "#  - Truong Hoang Thong\n",
    "#  - Rinkal Kalubhai Dhameliya\n",
    "#  - Thennakoon Mudiyanselage Shamila Harshani Theennakoon\n",
    "#  \n",
    "#  \n",
    "\n",
    "# ### Topic: Tic-Tac-Toe\n",
    "# #### Task\n",
    "# - To build a basic calculator program in Python that allows the user to perform various mathematical operations.\n",
    "# \n",
    "# ### Goal\n",
    "# - The goal of this project is to provide a user-friendly interface that allows users to perform basic mathematical operations, including addition, subtraction, multiplication, division, second power, and square root. The program should provide a menu for the user to select the desired operation and allow them to perform the operation as many times as they want until they choose to exit the program\n",
    "# \n",
    "# "
   ]
  },
  {
   "cell_type": "markdown",
   "id": "d7963202",
   "metadata": {},
   "source": [
    "# Task\n",
    " To build a basic calculator program in Python that allows the user to perform various mathematical operations.\n",
    "\n",
    "# Goal\n",
    " The goal of this project is to provide a user-friendly interface that allows users to perform basic mathematical operations, including addition, subtraction, multiplication, division, second power, and square root. The program should provide a menu for the user to select the desired operation and allow them to perform the operation as many times as they want until they choose to exit the program\n",
    "\n",
    "# # Conclusion\n",
    "# In conclusion, this basic calculator program in Python is a useful tool for performing basic mathematical operations. The program is designed to make calculations simpler and more accessible to users by providing a user-friendly interface and a range of operations to choose\n",
    "\n"
   ]
  },
  {
   "cell_type": "code",
   "execution_count": null,
   "id": "6a3b6511",
   "metadata": {},
   "outputs": [],
   "source": []
  }
 ],
 "metadata": {
  "kernelspec": {
   "display_name": "Python 3 (ipykernel)",
   "language": "python",
   "name": "python3"
  },
  "language_info": {
   "codemirror_mode": {
    "name": "ipython",
    "version": 3
   },
   "file_extension": ".py",
   "mimetype": "text/x-python",
   "name": "python",
   "nbconvert_exporter": "python",
   "pygments_lexer": "ipython3",
   "version": "3.9.13"
  }
 },
 "nbformat": 4,
 "nbformat_minor": 5
}
